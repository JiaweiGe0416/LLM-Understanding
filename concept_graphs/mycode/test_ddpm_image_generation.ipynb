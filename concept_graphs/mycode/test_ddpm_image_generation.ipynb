{
 "cells": [
  {
   "cell_type": "code",
   "execution_count": 1,
   "metadata": {},
   "outputs": [
    {
     "name": "stderr",
     "output_type": "stream",
     "text": [
      "/data2/jiawei/llm-understanding/concept_graphs/ddpm_image_generation.py:10: FutureWarning: You are using `torch.load` with `weights_only=False` (the current default value), which uses the default pickle module implicitly. It is possible to construct malicious pickle data which will execute arbitrary code during unpickling (See https://github.com/pytorch/pytorch/blob/main/SECURITY.md#untrusted-models for more details). In a future release, the default value for `weights_only` will be flipped to `True`. This limits the functions that could be executed during unpickling. Arbitrary objects will no longer be allowed to be loaded via this mode unless they are explicitly allowlisted by the user via `torch.serialization.add_safe_globals`. We recommend you start setting `weights_only=True` for any use case where you don't have full control of the loaded file. Please open an issue on GitHub for any issues related to this experimental feature.\n",
      "  model.load_state_dict(torch.load(model_path, map_location=device))\n"
     ]
    }
   ],
   "source": [
    "import torch\n",
    "import ddpm_image_generation\n",
    "\n",
    "model, device = ddpm_image_generation.load_trained_model(\"models/ddpm_conditional_unet.pth\")\n"
   ]
  },
  {
   "cell_type": "code",
   "execution_count": 3,
   "metadata": {},
   "outputs": [
    {
     "data": {
      "image/png": "[encoded data removed]",
      "text/plain": [
       "<Figure size 640x480 with 1 Axes>"
      ]
     },
     "metadata": {},
     "output_type": "display_data"
    }
   ],
   "source": [
    "condition = torch.tensor([[0, 0.9, 0.1, 0.1, 0.6]], dtype=torch.float32).to(device)\n",
    "\n",
    "generated_image = ddpm_image_generation.sample_image(model, device, condition)\n",
    "\n",
    "ddpm_image_generation.show_image(generated_image)"
   ]
  },
  {
   "cell_type": "code",
   "execution_count": 4,
   "metadata": {},
   "outputs": [
    {
     "name": "stdout",
     "output_type": "stream",
     "text": [
      "tensor(37.2452, device='cuda:0')\n",
      "tensor(-14.9129, device='cuda:0')\n"
     ]
    }
   ],
   "source": [
    "print(generated_image.max())\n",
    "print(generated_image.min())"
   ]
  },
  {
   "cell_type": "code",
   "execution_count": 8,
   "metadata": {},
   "outputs": [
    {
     "data": {
      "text/plain": [
       "tensor([[[[3.5042, 2.7289, 3.1990,  ..., 2.9770, 2.2791, 7.9774],\n",
       "          [3.1115, 2.9007, 2.8232,  ..., 2.9630, 2.6878, 3.3625],\n",
       "          [2.5733, 2.7305, 3.1350,  ..., 3.0071, 3.1660, 3.6217],\n",
       "          ...,\n",
       "          [2.9272, 3.2809, 3.5207,  ..., 2.8250, 2.9777, 2.8484],\n",
       "          [3.3526, 3.2813, 3.4583,  ..., 2.7778, 2.8106, 2.7133],\n",
       "          [6.9298, 4.3842, 4.2755,  ..., 2.9434, 2.8137, 1.1017]],\n",
       "\n",
       "         [[3.7316, 3.6369, 4.1896,  ..., 3.6014, 4.6252, 7.9350],\n",
       "          [3.7033, 3.0169, 3.5054,  ..., 3.1468, 3.8334, 4.5718],\n",
       "          [3.6120, 3.5741, 3.9216,  ..., 3.4488, 3.5399, 4.6486],\n",
       "          ...,\n",
       "          [4.4893, 3.8639, 3.9372,  ..., 3.3371, 3.3844, 3.1756],\n",
       "          [4.7911, 4.0327, 4.6075,  ..., 3.3533, 3.1748, 3.3680],\n",
       "          [7.0363, 5.5854, 5.4228,  ..., 3.2598, 3.5343, 5.5727]],\n",
       "\n",
       "         [[4.6572, 3.3519, 3.9720,  ..., 3.7814, 4.7253, 7.9244],\n",
       "          [3.5551, 2.8123, 3.0559,  ..., 3.2517, 3.4518, 4.6600],\n",
       "          [3.5553, 3.1188, 3.0483,  ..., 2.9362, 3.1857, 4.3612],\n",
       "          ...,\n",
       "          [3.9757, 3.5579, 3.7113,  ..., 2.8497, 2.6954, 3.2643],\n",
       "          [4.7862, 3.7047, 3.7448,  ..., 3.1644, 2.6648, 3.7760],\n",
       "          [6.7943, 3.9400, 4.6636,  ..., 3.0848, 2.9051, 4.2870]]]],\n",
       "       device='cuda:0')"
      ]
     },
     "execution_count": 8,
     "metadata": {},
     "output_type": "execute_result"
    }
   ],
   "source": [
    "generated_image"
   ]
  },
  {
   "cell_type": "code",
   "execution_count": null,
   "metadata": {},
   "outputs": [],
   "source": []
  }
 ],
 "metadata": {
  "kernelspec": {
   "display_name": "llm-env2",
   "language": "python",
   "name": "python3"
  },
  "language_info": {
   "codemirror_mode": {
    "name": "ipython",
    "version": 3
   },
   "file_extension": ".py",
   "mimetype": "text/x-python",
   "name": "python",
   "nbconvert_exporter": "python",
   "pygments_lexer": "ipython3",
   "version": "3.12.9"
  }
 },
 "nbformat": 4,
 "nbformat_minor": 2
}

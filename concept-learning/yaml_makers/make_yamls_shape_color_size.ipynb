{
 "cells": [
  {
   "cell_type": "markdown",
   "metadata": {},
   "source": [
    "ND"
   ]
  },
  {
   "cell_type": "code",
   "execution_count": 1,
   "metadata": {},
   "outputs": [
    {
     "data": {
      "text/plain": [
       "<module 'utils' from '/data2/jiawei/llm-understanding/concept-learning/utils.py'>"
      ]
     },
     "execution_count": 1,
     "metadata": {},
     "output_type": "execute_result"
    }
   ],
   "source": [
    "import os\n",
    "import sys\n",
    "project_path = os.path.abspath(os.path.join(os.getcwd(), '..'))  # Parent of mltools\n",
    "if project_path not in sys.path:\n",
    "    sys.path.insert(0, project_path)\n",
    "\n",
    "\n",
    "import numpy as np\n",
    "import copy\n",
    "import yaml\n",
    "yaml.Dumper.ignore_aliases = lambda *args : True\n",
    "import utils\n",
    "import matplotlib.pyplot as plt\n",
    "import tqdm\n",
    "import glob\n",
    "\n",
    "\n",
    "import importlib\n",
    "importlib.reload(utils)"
   ]
  },
  {
   "cell_type": "code",
   "execution_count": 2,
   "metadata": {},
   "outputs": [],
   "source": [
    "def get_ntr_ntest(ns,n_per=128,method=\"fid_axis\"):\n",
    "    indsgrid=np.stack(np.meshgrid(*([np.arange(n) for n in ns]),indexing=\"ij\"),axis=-1)\n",
    "    if method==\"fid_axis\":\n",
    "        n_nonzero=np.sum(indsgrid!=0,axis=-1)\n",
    "        sel=(n_nonzero<=1).flatten().astype(int)\n",
    "        ntr=(sel*n_per).tolist()\n",
    "        ntest=((1-sel)*n_per).tolist()\n",
    "    else:\n",
    "        raise ValueError(\"Unknown method\")\n",
    "    return ntr,ntest"
   ]
  },
  {
   "cell_type": "code",
   "execution_count": 3,
   "metadata": {},
   "outputs": [
    {
     "data": {
      "text/plain": [
       "(np.int64(8192), np.int64(8192), np.int64(20000), np.int64(20000))"
      ]
     },
     "execution_count": 3,
     "metadata": {},
     "output_type": "execute_result"
    }
   ],
   "source": [
    "ntr,ntest=get_ntr_ntest([2,2,2],n_per=2048,method=\"fid_axis\")\n",
    "ntr_gen,ntest_gen=get_ntr_ntest([2,2,2],n_per=5000,method=\"fid_axis\")\n",
    "np.sum(ntr),np.sum(ntest),np.sum(ntr_gen),np.sum(ntest_gen)"
   ]
  },
  {
   "cell_type": "code",
   "execution_count": 4,
   "metadata": {},
   "outputs": [],
   "source": [
    "config={\n",
    "    'experiment_directory': None,\n",
    "    'seed': None,\n",
    "    \"dataset\":\"images_1\",\n",
    "    'n_samples_train':[],\n",
    "    'n_samples_test':[],\n",
    "    'n_samples_train_gen':[],\n",
    "    'n_samples_test_gen':[],\n",
    "    \"data_params\":{\n",
    "        \"n_classes\":8,\n",
    "        \"image_size\": 28,\n",
    "        \"noise_level\": 0.001,\n",
    "        \"comp_dims\":{\"shape\":2,\"x\":None,\"y\":None,\"color\":2,\"size\":2,\"bg_color\":None},\n",
    "        \n",
    "        \"shape\":{\"names\":[\"circle\",\"triangle\"]},\n",
    "        \"x\":{\"min\":0.0,\"max\":0.0,\"n\":None,\"s\":0.0,\"s_n\":0.0},\n",
    "        \"y\":{\"min\":0.0,\"max\":0.0,\"n\":None,\"s\":0.0,\"s_n\":0.0},\n",
    "        \"color\":{\"means\":[[0.9,0.1,0.1],[0.1,0.1,0.9]],\"mins\":[[0.8,0.0,0.0],[0.0,0.0,0.8]],\"maxs\":[[1.0,0.2,0.2],[0.2,0.2,1.0]],\"s_n\":0.0},\n",
    "        \"size\":{\"means\":[0.6,0.4],\"mins\":[0.55,0.4],\"maxs\":[0.65,0.45],\"s_n\":0.00,\"min\":0.1},\n",
    "        \"bg_color\":{\"means\":[[1.0,1.0,1.0],[0.0,0.0,0.0]],\"mins\":[[1.0,1.0,1.0],[0.0,0.0,0.0]],\"maxs\":[[1.0,1.0,1.0],[0.0,0.0,0.0]],\"s_n\":0.0},\n",
    "    },\n",
    "    \"model_params\":{\n",
    "        \"model_type\": \"VDiff\",\n",
    "        \"optimizer_type\": \"AdamW\",\n",
    "        \"optimizer_params\": {\"lr\": 0.001,\"weight_decay\": 0.01},\n",
    "        \"data_noise\":1e-3,\n",
    "        \"beta_settings\": {\"type\":\"logsnr\",\"noise_schedule\":\"learned_linear\",\"gamma_min\":-5., \"gamma_max\":10.},\n",
    "        \"network_params\": {\"mid_attn\":True,\n",
    "                           \"v_conditioning_type\":\"sep_mlp\",\n",
    "                           \"v_conditioning_dims\":[11],\n",
    "                           \"chs\": [64,128,256],\n",
    "                           \"num_res_blocks\":2,\n",
    "                           \"init_scale\":1.0},\n",
    "    },\n",
    "    \"batch_size\": 64,\n",
    "    \"train_ratio\": 0.85,\n",
    "    'num_steps': 40_000,\n",
    "    'save_steps_start': 50,\n",
    "    'save_steps': 120,\n",
    "\n",
    "    \"fig_n_col\": 4,\n",
    "}"
   ]
  },
  {
   "cell_type": "code",
   "execution_count": 5,
   "metadata": {},
   "outputs": [],
   "source": [
    "configs_sc2ss2sb2=[]\n",
    "for seed in [0,100,200,300,400]:\n",
    "    fol=f\"images_1/2x2x2_final/sc2ss2sb2_re/shape_color_size\"\n",
    "    experiment_name=f\"seed={seed}\"\n",
    "    \n",
    "    config_=copy.deepcopy(config)\n",
    "    config_[\"seed\"]=seed\n",
    "\n",
    "    config_['n_samples_train']=ntr\n",
    "    config_['n_samples_test']=ntest\n",
    "    config_['n_samples_train_gen']=ntr_gen\n",
    "    config_['n_samples_test_gen']=ntest_gen\n",
    "\n",
    "\n",
    "    config_=utils.process_config(config_,check_only=True)\n",
    "    experiment_directory=os.path.join(\"data\",fol,experiment_name)\n",
    "    config_[\"experiment_directory\"]=experiment_directory\n",
    "    yaml_fol=os.path.join(\"yamls\",fol)\n",
    "    os.makedirs(yaml_fol,exist_ok=True)\n",
    "    yaml_path=os.path.join(yaml_fol,experiment_name+\".yaml\")\n",
    "    yaml.dump(config_,open(yaml_path,\"w\"))\n",
    "    configs_sc2ss2sb2.append(config_)"
   ]
  },
  {
   "cell_type": "code",
   "execution_count": 6,
   "metadata": {},
   "outputs": [],
   "source": [
    "yaml_files=glob.glob(\"./yamls/images_1/2x2x2_final/sc2ss2sb2_re/*/*.yaml\")\n",
    "\n",
    "n_proc=5\n",
    "chunked=[yaml_files[i::n_proc] for i in range(n_proc)]\n",
    "for i,chunk in enumerate(chunked):\n",
    "    with open(f\"./yamls/images_1/2x2x2_final/sc2ss2sb2_re/yamls_{i}.txt\",\"w\") as f:\n",
    "        for path in chunk:\n",
    "            path=os.path.abspath(path)\n",
    "            f.write(path+\"\\n\")"
   ]
  },
  {
   "cell_type": "code",
   "execution_count": null,
   "metadata": {},
   "outputs": [],
   "source": []
  },
  {
   "cell_type": "code",
   "execution_count": null,
   "metadata": {},
   "outputs": [],
   "source": []
  },
  {
   "cell_type": "code",
   "execution_count": null,
   "metadata": {},
   "outputs": [],
   "source": []
  },
  {
   "cell_type": "code",
   "execution_count": null,
   "metadata": {},
   "outputs": [],
   "source": []
  },
  {
   "cell_type": "code",
   "execution_count": null,
   "metadata": {},
   "outputs": [],
   "source": []
  }
 ],
 "metadata": {
  "kernelspec": {
   "display_name": "llm-env2",
   "language": "python",
   "name": "python3"
  },
  "language_info": {
   "codemirror_mode": {
    "name": "ipython",
    "version": 3
   },
   "file_extension": ".py",
   "mimetype": "text/x-python",
   "name": "python",
   "nbconvert_exporter": "python",
   "pygments_lexer": "ipython3",
   "version": "3.12.9"
  },
  "orig_nbformat": 4
 },
 "nbformat": 4,
 "nbformat_minor": 2
}

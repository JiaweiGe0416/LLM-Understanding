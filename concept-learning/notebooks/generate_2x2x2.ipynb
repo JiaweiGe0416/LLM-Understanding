{
 "cells": [
  {
   "cell_type": "markdown",
   "metadata": {},
   "source": [
    "# Generate training samples"
   ]
  },
  {
   "cell_type": "code",
   "execution_count": 1,
   "metadata": {},
   "outputs": [
    {
     "name": "stdout",
     "output_type": "stream",
     "text": [
      "memory_available [48450, 48450, 48450, 48450, 24871, 24897, 24883, 24887]\n",
      "best GPU: 0\n"
     ]
    },
    {
     "data": {
      "text/plain": [
       "<module 'utils' from '/data2/jiawei/llm-understanding/concept-learning/utils.py'>"
      ]
     },
     "execution_count": 1,
     "metadata": {},
     "output_type": "execute_result"
    }
   ],
   "source": [
    "import torch\n",
    "import matplotlib\n",
    "import matplotlib.pyplot as plt\n",
    "import numpy as np\n",
    "import os\n",
    "import glob\n",
    "import tqdm\n",
    "import scipy.ndimage as sim\n",
    "import sys\n",
    "\n",
    "\n",
    "project_path = os.path.abspath(os.path.join(os.getcwd(), '..'))  # Parent of mltools\n",
    "if project_path not in sys.path:\n",
    "    sys.path.insert(0, project_path)\n",
    "\n",
    "import mltools.utils.cuda_tools as cuda_tools\n",
    "from mltools.networks import networks\n",
    "\n",
    "device=cuda_tools.get_freer_device()\n",
    "\n",
    "import sys\n",
    "sys.path.append('../')\n",
    "\n",
    "import utils\n",
    "# import models\n",
    "import importlib\n",
    "importlib.reload(utils)\n",
    "\n",
    "# plt.rcParams.update({'font.size': 18})"
   ]
  },
  {
   "cell_type": "code",
   "execution_count": 2,
   "metadata": {},
   "outputs": [],
   "source": [
    "config=utils.load_config('../yaml_makers/yamls/images_1/2x2x2_final/sc2ss2sb2_re/shape_color_size/seed=0.yaml')\n",
    "x_tr,y_tr,l_tr,x_te,y_te,l_te=utils.generate_data(config,seed=42,forgen=True)"
   ]
  },
  {
   "cell_type": "code",
   "execution_count": 3,
   "metadata": {},
   "outputs": [
    {
     "name": "stdout",
     "output_type": "stream",
     "text": [
      "(20000, 3, 28, 28)\n",
      "(20000, 3, 28, 28)\n"
     ]
    }
   ],
   "source": [
    "print(x_tr.shape)\n",
    "print(x_te.shape)"
   ]
  },
  {
   "cell_type": "code",
   "execution_count": 4,
   "metadata": {},
   "outputs": [
    {
     "ename": "IndexError",
     "evalue": "index 0 is out of bounds for axis 0 with size 0",
     "output_type": "error",
     "traceback": [
      "\u001b[0;31m---------------------------------------------------------------------------\u001b[0m",
      "\u001b[0;31mIndexError\u001b[0m                                Traceback (most recent call last)",
      "Cell \u001b[0;32mIn[4], line 1\u001b[0m\n\u001b[0;32m----> 1\u001b[0m image\u001b[38;5;241m=\u001b[39m\u001b[43mx_tr\u001b[49m\u001b[43m[\u001b[49m\u001b[43ml_tr\u001b[49m\u001b[38;5;241;43m==\u001b[39;49m\u001b[38;5;241;43m0\u001b[39;49m\u001b[43m]\u001b[49m\u001b[43m[\u001b[49m\u001b[38;5;241;43m0\u001b[39;49m\u001b[43m]\u001b[49m\u001b[38;5;241m.\u001b[39mtranspose(\u001b[38;5;241m2\u001b[39m,\u001b[38;5;241m1\u001b[39m,\u001b[38;5;241m0\u001b[39m)\n\u001b[1;32m      2\u001b[0m plt\u001b[38;5;241m.\u001b[39mimshow(image)\n",
      "\u001b[0;31mIndexError\u001b[0m: index 0 is out of bounds for axis 0 with size 0"
     ]
    }
   ],
   "source": [
    "image=x_tr[l_tr==0][0].transpose(2,1,0)\n",
    "plt.imshow(image)"
   ]
  },
  {
   "cell_type": "markdown",
   "metadata": {},
   "source": [
    "# Save images"
   ]
  },
  {
   "cell_type": "code",
   "execution_count": 5,
   "metadata": {},
   "outputs": [
    {
     "name": "stdout",
     "output_type": "stream",
     "text": [
      "Dataset saved successfully!\n"
     ]
    }
   ],
   "source": [
    "import os\n",
    "import random\n",
    "import json\n",
    "import numpy as np\n",
    "from PIL import Image\n",
    "import utils  # Assuming this module has your `generate_data_images_1` function\n",
    "\n",
    "# Define directory paths\n",
    "DATASET_DIR = \"/data2/jiawei/llm-understanding/concept_graphs/input/single-body_2d_3classes\"\n",
    "TRAIN_DIR = os.path.join(DATASET_DIR, \"train\")\n",
    "TEST_DIR = os.path.join(DATASET_DIR, \"test\")\n",
    "\n",
    "# Ensure directories exist\n",
    "os.makedirs(TRAIN_DIR, exist_ok=True)\n",
    "os.makedirs(TEST_DIR, exist_ok=True)\n",
    "\n",
    "# Function to save images and metadata\n",
    "def save_dataset(images, labels, classes, save_dir, prefix=\"CLEVR\"):\n",
    "    \"\"\"\n",
    "    Saves images as PNG files and their corresponding labels in JSON format,\n",
    "    with filenames based on size, color, and shape.\n",
    "\n",
    "    Args:\n",
    "        images (numpy.ndarray): Generated images.\n",
    "        labels (numpy.ndarray): Vectorized labels for each image.\n",
    "        classes (numpy.ndarray): Class labels.\n",
    "        save_dir (str): Directory where data will be stored.\n",
    "        prefix (str): Filename prefix.\n",
    "    \"\"\"\n",
    "    for idx, (img, label, cls) in enumerate(zip(images, labels, classes)):\n",
    "        # Extract relevant data\n",
    "        size = float(label[7])  # Object size\n",
    "        color_rgb = label[4:7].tolist()  # RGB color\n",
    "        shape_value = int(label[0])  # Assuming shape is stored here\n",
    "\n",
    "        # Apply conditions for filename\n",
    "        size_flag = 0 if size >= 0.5 else 1\n",
    "        # ra = random.uniform(0, 1)\n",
    "        # size_flag = 0 if ra >= 0.5 else 1\n",
    "        color_flag = 0 if color_rgb[0] > color_rgb[2] else 1  \n",
    "        shape_flag = shape_value  # Assuming 0 is the first shape\n",
    "\n",
    "        # New filename with \"CLEVR\" prefix\n",
    "        img_filename = f\"{prefix}_{shape_flag}{color_flag}{size_flag}_{idx:05d}.png\"\n",
    "        json_filename = f\"{prefix}_{shape_flag}{color_flag}{size_flag}_{idx:05d}.json\"\n",
    "\n",
    "        # Convert image to PIL format and save\n",
    "        img = (img * 255).astype(np.uint8)  # Convert to [0,255] range\n",
    "        img_pil = Image.fromarray(np.transpose(img, (1, 2, 0)))  # Convert to HxWxC\n",
    "        img_pil.save(os.path.join(save_dir, img_filename))\n",
    "\n",
    "        # Prepare the new JSON structure\n",
    "        label_data = [\n",
    "            size,  # First element: size\n",
    "            color_rgb   # Second element: RGB list + shape\n",
    "        ]\n",
    "\n",
    "        # Save metadata as JSON\n",
    "        with open(os.path.join(save_dir, json_filename), \"w\") as json_file:\n",
    "            json.dump(label_data, json_file)\n",
    "\n",
    "# Save training and testing data\n",
    "save_dataset(x_tr, y_tr, l_tr, TRAIN_DIR, prefix=\"CLEVR\")\n",
    "save_dataset(x_te, y_te, l_te, TEST_DIR, prefix=\"CLEVR\")\n",
    "\n",
    "print(\"Dataset saved successfully!\")\n"
   ]
  },
  {
   "cell_type": "code",
   "execution_count": null,
   "metadata": {},
   "outputs": [],
   "source": []
  }
 ],
 "metadata": {
  "kernelspec": {
   "display_name": "llm-env2",
   "language": "python",
   "name": "python3"
  },
  "language_info": {
   "codemirror_mode": {
    "name": "ipython",
    "version": 3
   },
   "file_extension": ".py",
   "mimetype": "text/x-python",
   "name": "python",
   "nbconvert_exporter": "python",
   "pygments_lexer": "ipython3",
   "version": "3.12.9"
  }
 },
 "nbformat": 4,
 "nbformat_minor": 2
}
